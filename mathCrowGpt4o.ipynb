{
 "cells": [
  {
   "cell_type": "markdown",
   "metadata": {
    "id": "TTJ0UMt2fpdw"
   },
   "source": [
    "# Mount Google Drive"
   ]
  },
  {
   "cell_type": "code",
   "execution_count": null,
   "metadata": {
    "colab": {
     "base_uri": "https://localhost:8080/"
    },
    "id": "LGYDycA53rrY",
    "outputId": "db0f302d-54b2-48db-d2d8-6140ed4f4127"
   },
   "outputs": [
    {
     "name": "stdout",
     "output_type": "stream",
     "text": [
      "Mounted at /content/drive\n",
      "/content/drive/MyDrive/EE526_Project\n",
      "agenticLP.py\t\t   mathCrowGpt4o.ipynb\t reviewAltGDMinTxt.txt\n",
      "agenticRAG2Tools.py\t   __pycache__\t\t strawberry.md\n",
      "agenticRAGAltGDMin.py\t   reviewAltGDMin.md\t strawberry.txt\n",
      "agenticRAGStrawberry.py    reviewAltGDMinNew.md  utils.py\n",
      "mathCrowGpt4.1-mini.ipynb  reviewAltGDMin.pdf\n"
     ]
    }
   ],
   "source": [
    "from google.colab import drive; drive.mount('/content/drive')\n",
    "curDir = !pwd\n",
    "%cd drive/MyDrive/EE526_Project/\n",
    "!ls"
   ]
  },
  {
   "cell_type": "markdown",
   "metadata": {
    "id": "Y8ls-PzC2Rpn"
   },
   "source": [
    "# Install pacakges\n"
   ]
  },
  {
   "cell_type": "code",
   "execution_count": null,
   "metadata": {
    "colab": {
     "base_uri": "https://localhost:8080/"
    },
    "id": "qF4d1UuE7smW",
    "outputId": "f93a5905-d31a-4fea-bbd7-be20d3037a14"
   },
   "outputs": [
    {
     "name": "stdout",
     "output_type": "stream",
     "text": [
      "Collecting langgraph\n",
      "  Downloading langgraph-0.6.4-py3-none-any.whl.metadata (6.8 kB)\n",
      "Requirement already satisfied: langchain in /usr/local/lib/python3.11/dist-packages (0.3.27)\n",
      "Collecting langchain-community\n",
      "  Downloading langchain_community-0.3.27-py3-none-any.whl.metadata (2.9 kB)\n",
      "Requirement already satisfied: langchain-core in /usr/local/lib/python3.11/dist-packages (0.3.72)\n",
      "Collecting langchain-huggingface\n",
      "  Downloading langchain_huggingface-0.3.1-py3-none-any.whl.metadata (996 bytes)\n",
      "Requirement already satisfied: langchain-text-splitters in /usr/local/lib/python3.11/dist-packages (0.3.9)\n",
      "Collecting langchain-ollama\n",
      "  Downloading langchain_ollama-0.3.6-py3-none-any.whl.metadata (2.1 kB)\n",
      "Requirement already satisfied: huggingface-hub in /usr/local/lib/python3.11/dist-packages (0.34.3)\n",
      "Collecting faiss-cpu\n",
      "  Downloading faiss_cpu-1.11.0.post1-cp311-cp311-manylinux_2_27_x86_64.manylinux_2_28_x86_64.whl.metadata (5.0 kB)\n",
      "Requirement already satisfied: sentence-transformers in /usr/local/lib/python3.11/dist-packages (5.0.0)\n",
      "Requirement already satisfied: requests in /usr/local/lib/python3.11/dist-packages (2.32.3)\n",
      "Requirement already satisfied: beautifulsoup4 in /usr/local/lib/python3.11/dist-packages (4.13.4)\n",
      "Collecting pypdf\n",
      "  Downloading pypdf-6.0.0-py3-none-any.whl.metadata (7.1 kB)\n",
      "Collecting langchain-openai\n",
      "  Downloading langchain_openai-0.3.29-py3-none-any.whl.metadata (2.4 kB)\n",
      "Collecting langgraph-checkpoint<3.0.0,>=2.1.0 (from langgraph)\n",
      "  Downloading langgraph_checkpoint-2.1.1-py3-none-any.whl.metadata (4.2 kB)\n",
      "Collecting langgraph-prebuilt<0.7.0,>=0.6.0 (from langgraph)\n",
      "  Downloading langgraph_prebuilt-0.6.4-py3-none-any.whl.metadata (4.5 kB)\n",
      "Collecting langgraph-sdk<0.3.0,>=0.2.0 (from langgraph)\n",
      "  Downloading langgraph_sdk-0.2.0-py3-none-any.whl.metadata (1.5 kB)\n",
      "Requirement already satisfied: pydantic>=2.7.4 in /usr/local/lib/python3.11/dist-packages (from langgraph) (2.11.7)\n",
      "Requirement already satisfied: xxhash>=3.5.0 in /usr/local/lib/python3.11/dist-packages (from langgraph) (3.5.0)\n",
      "Requirement already satisfied: langsmith>=0.1.17 in /usr/local/lib/python3.11/dist-packages (from langchain) (0.4.12)\n",
      "Requirement already satisfied: SQLAlchemy<3,>=1.4 in /usr/local/lib/python3.11/dist-packages (from langchain) (2.0.42)\n",
      "Requirement already satisfied: PyYAML>=5.3 in /usr/local/lib/python3.11/dist-packages (from langchain) (6.0.2)\n",
      "Requirement already satisfied: aiohttp<4.0.0,>=3.8.3 in /usr/local/lib/python3.11/dist-packages (from langchain-community) (3.12.15)\n",
      "Requirement already satisfied: tenacity!=8.4.0,<10,>=8.1.0 in /usr/local/lib/python3.11/dist-packages (from langchain-community) (8.5.0)\n",
      "Collecting dataclasses-json<0.7,>=0.5.7 (from langchain-community)\n",
      "  Downloading dataclasses_json-0.6.7-py3-none-any.whl.metadata (25 kB)\n",
      "Collecting pydantic-settings<3.0.0,>=2.4.0 (from langchain-community)\n",
      "  Downloading pydantic_settings-2.10.1-py3-none-any.whl.metadata (3.4 kB)\n",
      "Collecting httpx-sse<1.0.0,>=0.4.0 (from langchain-community)\n",
      "  Downloading httpx_sse-0.4.1-py3-none-any.whl.metadata (9.4 kB)\n",
      "Requirement already satisfied: numpy>=1.26.2 in /usr/local/lib/python3.11/dist-packages (from langchain-community) (2.0.2)\n",
      "Requirement already satisfied: jsonpatch<2.0,>=1.33 in /usr/local/lib/python3.11/dist-packages (from langchain-core) (1.33)\n",
      "Requirement already satisfied: typing-extensions>=4.7 in /usr/local/lib/python3.11/dist-packages (from langchain-core) (4.14.1)\n",
      "Requirement already satisfied: packaging>=23.2 in /usr/local/lib/python3.11/dist-packages (from langchain-core) (25.0)\n",
      "Requirement already satisfied: tokenizers>=0.19.1 in /usr/local/lib/python3.11/dist-packages (from langchain-huggingface) (0.21.4)\n",
      "Collecting ollama<1.0.0,>=0.5.1 (from langchain-ollama)\n",
      "  Downloading ollama-0.5.3-py3-none-any.whl.metadata (4.3 kB)\n",
      "Requirement already satisfied: filelock in /usr/local/lib/python3.11/dist-packages (from huggingface-hub) (3.18.0)\n",
      "Requirement already satisfied: fsspec>=2023.5.0 in /usr/local/lib/python3.11/dist-packages (from huggingface-hub) (2025.3.0)\n",
      "Requirement already satisfied: tqdm>=4.42.1 in /usr/local/lib/python3.11/dist-packages (from huggingface-hub) (4.67.1)\n",
      "Requirement already satisfied: hf-xet<2.0.0,>=1.1.3 in /usr/local/lib/python3.11/dist-packages (from huggingface-hub) (1.1.7)\n",
      "Requirement already satisfied: transformers<5.0.0,>=4.41.0 in /usr/local/lib/python3.11/dist-packages (from sentence-transformers) (4.55.0)\n",
      "Requirement already satisfied: torch>=1.11.0 in /usr/local/lib/python3.11/dist-packages (from sentence-transformers) (2.6.0+cu124)\n",
      "Requirement already satisfied: scikit-learn in /usr/local/lib/python3.11/dist-packages (from sentence-transformers) (1.6.1)\n",
      "Requirement already satisfied: scipy in /usr/local/lib/python3.11/dist-packages (from sentence-transformers) (1.16.1)\n",
      "Requirement already satisfied: Pillow in /usr/local/lib/python3.11/dist-packages (from sentence-transformers) (11.3.0)\n",
      "Requirement already satisfied: charset-normalizer<4,>=2 in /usr/local/lib/python3.11/dist-packages (from requests) (3.4.2)\n",
      "Requirement already satisfied: idna<4,>=2.5 in /usr/local/lib/python3.11/dist-packages (from requests) (3.10)\n",
      "Requirement already satisfied: urllib3<3,>=1.21.1 in /usr/local/lib/python3.11/dist-packages (from requests) (2.5.0)\n",
      "Requirement already satisfied: certifi>=2017.4.17 in /usr/local/lib/python3.11/dist-packages (from requests) (2025.8.3)\n",
      "Requirement already satisfied: soupsieve>1.2 in /usr/local/lib/python3.11/dist-packages (from beautifulsoup4) (2.7)\n",
      "Collecting langchain-core\n",
      "  Downloading langchain_core-0.3.74-py3-none-any.whl.metadata (5.8 kB)\n",
      "Requirement already satisfied: openai<2.0.0,>=1.86.0 in /usr/local/lib/python3.11/dist-packages (from langchain-openai) (1.99.1)\n",
      "Requirement already satisfied: tiktoken<1,>=0.7 in /usr/local/lib/python3.11/dist-packages (from langchain-openai) (0.10.0)\n",
      "Requirement already satisfied: aiohappyeyeballs>=2.5.0 in /usr/local/lib/python3.11/dist-packages (from aiohttp<4.0.0,>=3.8.3->langchain-community) (2.6.1)\n",
      "Requirement already satisfied: aiosignal>=1.4.0 in /usr/local/lib/python3.11/dist-packages (from aiohttp<4.0.0,>=3.8.3->langchain-community) (1.4.0)\n",
      "Requirement already satisfied: attrs>=17.3.0 in /usr/local/lib/python3.11/dist-packages (from aiohttp<4.0.0,>=3.8.3->langchain-community) (25.3.0)\n",
      "Requirement already satisfied: frozenlist>=1.1.1 in /usr/local/lib/python3.11/dist-packages (from aiohttp<4.0.0,>=3.8.3->langchain-community) (1.7.0)\n",
      "Requirement already satisfied: multidict<7.0,>=4.5 in /usr/local/lib/python3.11/dist-packages (from aiohttp<4.0.0,>=3.8.3->langchain-community) (6.6.3)\n",
      "Requirement already satisfied: propcache>=0.2.0 in /usr/local/lib/python3.11/dist-packages (from aiohttp<4.0.0,>=3.8.3->langchain-community) (0.3.2)\n",
      "Requirement already satisfied: yarl<2.0,>=1.17.0 in /usr/local/lib/python3.11/dist-packages (from aiohttp<4.0.0,>=3.8.3->langchain-community) (1.20.1)\n",
      "Collecting marshmallow<4.0.0,>=3.18.0 (from dataclasses-json<0.7,>=0.5.7->langchain-community)\n",
      "  Downloading marshmallow-3.26.1-py3-none-any.whl.metadata (7.3 kB)\n",
      "Collecting typing-inspect<1,>=0.4.0 (from dataclasses-json<0.7,>=0.5.7->langchain-community)\n",
      "  Downloading typing_inspect-0.9.0-py3-none-any.whl.metadata (1.5 kB)\n",
      "Requirement already satisfied: jsonpointer>=1.9 in /usr/local/lib/python3.11/dist-packages (from jsonpatch<2.0,>=1.33->langchain-core) (3.0.0)\n",
      "Collecting ormsgpack>=1.10.0 (from langgraph-checkpoint<3.0.0,>=2.1.0->langgraph)\n",
      "  Downloading ormsgpack-1.10.0-cp311-cp311-manylinux_2_17_x86_64.manylinux2014_x86_64.whl.metadata (43 kB)\n",
      "\u001b[2K     \u001b[90m━━━━━━━━━━━━━━━━━━━━━━━━━━━━━━━━━━━━━━━━\u001b[0m \u001b[32m43.7/43.7 kB\u001b[0m \u001b[31m5.0 MB/s\u001b[0m eta \u001b[36m0:00:00\u001b[0m\n",
      "\u001b[?25hRequirement already satisfied: httpx>=0.25.2 in /usr/local/lib/python3.11/dist-packages (from langgraph-sdk<0.3.0,>=0.2.0->langgraph) (0.28.1)\n",
      "Requirement already satisfied: orjson>=3.10.1 in /usr/local/lib/python3.11/dist-packages (from langgraph-sdk<0.3.0,>=0.2.0->langgraph) (3.11.1)\n",
      "Requirement already satisfied: requests-toolbelt>=1.0.0 in /usr/local/lib/python3.11/dist-packages (from langsmith>=0.1.17->langchain) (1.0.0)\n",
      "Requirement already satisfied: zstandard>=0.23.0 in /usr/local/lib/python3.11/dist-packages (from langsmith>=0.1.17->langchain) (0.23.0)\n",
      "Requirement already satisfied: anyio<5,>=3.5.0 in /usr/local/lib/python3.11/dist-packages (from openai<2.0.0,>=1.86.0->langchain-openai) (4.10.0)\n",
      "Requirement already satisfied: distro<2,>=1.7.0 in /usr/local/lib/python3.11/dist-packages (from openai<2.0.0,>=1.86.0->langchain-openai) (1.9.0)\n",
      "Requirement already satisfied: jiter<1,>=0.4.0 in /usr/local/lib/python3.11/dist-packages (from openai<2.0.0,>=1.86.0->langchain-openai) (0.10.0)\n",
      "Requirement already satisfied: sniffio in /usr/local/lib/python3.11/dist-packages (from openai<2.0.0,>=1.86.0->langchain-openai) (1.3.1)\n",
      "Requirement already satisfied: annotated-types>=0.6.0 in /usr/local/lib/python3.11/dist-packages (from pydantic>=2.7.4->langgraph) (0.7.0)\n",
      "Requirement already satisfied: pydantic-core==2.33.2 in /usr/local/lib/python3.11/dist-packages (from pydantic>=2.7.4->langgraph) (2.33.2)\n",
      "Requirement already satisfied: typing-inspection>=0.4.0 in /usr/local/lib/python3.11/dist-packages (from pydantic>=2.7.4->langgraph) (0.4.1)\n",
      "Collecting python-dotenv>=0.21.0 (from pydantic-settings<3.0.0,>=2.4.0->langchain-community)\n",
      "  Downloading python_dotenv-1.1.1-py3-none-any.whl.metadata (24 kB)\n",
      "Requirement already satisfied: greenlet>=1 in /usr/local/lib/python3.11/dist-packages (from SQLAlchemy<3,>=1.4->langchain) (3.2.3)\n",
      "Requirement already satisfied: regex>=2022.1.18 in /usr/local/lib/python3.11/dist-packages (from tiktoken<1,>=0.7->langchain-openai) (2024.11.6)\n",
      "Requirement already satisfied: networkx in /usr/local/lib/python3.11/dist-packages (from torch>=1.11.0->sentence-transformers) (3.5)\n",
      "Requirement already satisfied: jinja2 in /usr/local/lib/python3.11/dist-packages (from torch>=1.11.0->sentence-transformers) (3.1.6)\n",
      "Collecting nvidia-cuda-nvrtc-cu12==12.4.127 (from torch>=1.11.0->sentence-transformers)\n",
      "  Downloading nvidia_cuda_nvrtc_cu12-12.4.127-py3-none-manylinux2014_x86_64.whl.metadata (1.5 kB)\n",
      "Collecting nvidia-cuda-runtime-cu12==12.4.127 (from torch>=1.11.0->sentence-transformers)\n",
      "  Downloading nvidia_cuda_runtime_cu12-12.4.127-py3-none-manylinux2014_x86_64.whl.metadata (1.5 kB)\n",
      "Collecting nvidia-cuda-cupti-cu12==12.4.127 (from torch>=1.11.0->sentence-transformers)\n",
      "  Downloading nvidia_cuda_cupti_cu12-12.4.127-py3-none-manylinux2014_x86_64.whl.metadata (1.6 kB)\n",
      "Collecting nvidia-cudnn-cu12==9.1.0.70 (from torch>=1.11.0->sentence-transformers)\n",
      "  Downloading nvidia_cudnn_cu12-9.1.0.70-py3-none-manylinux2014_x86_64.whl.metadata (1.6 kB)\n",
      "Collecting nvidia-cublas-cu12==12.4.5.8 (from torch>=1.11.0->sentence-transformers)\n",
      "  Downloading nvidia_cublas_cu12-12.4.5.8-py3-none-manylinux2014_x86_64.whl.metadata (1.5 kB)\n",
      "Collecting nvidia-cufft-cu12==11.2.1.3 (from torch>=1.11.0->sentence-transformers)\n",
      "  Downloading nvidia_cufft_cu12-11.2.1.3-py3-none-manylinux2014_x86_64.whl.metadata (1.5 kB)\n",
      "Collecting nvidia-curand-cu12==10.3.5.147 (from torch>=1.11.0->sentence-transformers)\n",
      "  Downloading nvidia_curand_cu12-10.3.5.147-py3-none-manylinux2014_x86_64.whl.metadata (1.5 kB)\n",
      "Collecting nvidia-cusolver-cu12==11.6.1.9 (from torch>=1.11.0->sentence-transformers)\n",
      "  Downloading nvidia_cusolver_cu12-11.6.1.9-py3-none-manylinux2014_x86_64.whl.metadata (1.6 kB)\n",
      "Collecting nvidia-cusparse-cu12==12.3.1.170 (from torch>=1.11.0->sentence-transformers)\n",
      "  Downloading nvidia_cusparse_cu12-12.3.1.170-py3-none-manylinux2014_x86_64.whl.metadata (1.6 kB)\n",
      "Requirement already satisfied: nvidia-cusparselt-cu12==0.6.2 in /usr/local/lib/python3.11/dist-packages (from torch>=1.11.0->sentence-transformers) (0.6.2)\n",
      "Collecting nvidia-nccl-cu12==2.21.5 (from torch>=1.11.0->sentence-transformers)\n",
      "  Downloading nvidia_nccl_cu12-2.21.5-py3-none-manylinux2014_x86_64.whl.metadata (1.8 kB)\n",
      "Requirement already satisfied: nvidia-nvtx-cu12==12.4.127 in /usr/local/lib/python3.11/dist-packages (from torch>=1.11.0->sentence-transformers) (12.4.127)\n",
      "Collecting nvidia-nvjitlink-cu12==12.4.127 (from torch>=1.11.0->sentence-transformers)\n",
      "  Downloading nvidia_nvjitlink_cu12-12.4.127-py3-none-manylinux2014_x86_64.whl.metadata (1.5 kB)\n",
      "Requirement already satisfied: triton==3.2.0 in /usr/local/lib/python3.11/dist-packages (from torch>=1.11.0->sentence-transformers) (3.2.0)\n",
      "Requirement already satisfied: sympy==1.13.1 in /usr/local/lib/python3.11/dist-packages (from torch>=1.11.0->sentence-transformers) (1.13.1)\n",
      "Requirement already satisfied: mpmath<1.4,>=1.1.0 in /usr/local/lib/python3.11/dist-packages (from sympy==1.13.1->torch>=1.11.0->sentence-transformers) (1.3.0)\n",
      "Requirement already satisfied: safetensors>=0.4.3 in /usr/local/lib/python3.11/dist-packages (from transformers<5.0.0,>=4.41.0->sentence-transformers) (0.6.1)\n",
      "Requirement already satisfied: joblib>=1.2.0 in /usr/local/lib/python3.11/dist-packages (from scikit-learn->sentence-transformers) (1.5.1)\n",
      "Requirement already satisfied: threadpoolctl>=3.1.0 in /usr/local/lib/python3.11/dist-packages (from scikit-learn->sentence-transformers) (3.6.0)\n",
      "Requirement already satisfied: httpcore==1.* in /usr/local/lib/python3.11/dist-packages (from httpx>=0.25.2->langgraph-sdk<0.3.0,>=0.2.0->langgraph) (1.0.9)\n",
      "Requirement already satisfied: h11>=0.16 in /usr/local/lib/python3.11/dist-packages (from httpcore==1.*->httpx>=0.25.2->langgraph-sdk<0.3.0,>=0.2.0->langgraph) (0.16.0)\n",
      "Collecting mypy-extensions>=0.3.0 (from typing-inspect<1,>=0.4.0->dataclasses-json<0.7,>=0.5.7->langchain-community)\n",
      "  Downloading mypy_extensions-1.1.0-py3-none-any.whl.metadata (1.1 kB)\n",
      "Requirement already satisfied: MarkupSafe>=2.0 in /usr/local/lib/python3.11/dist-packages (from jinja2->torch>=1.11.0->sentence-transformers) (3.0.2)\n",
      "Downloading langgraph-0.6.4-py3-none-any.whl (153 kB)\n",
      "\u001b[2K   \u001b[90m━━━━━━━━━━━━━━━━━━━━━━━━━━━━━━━━━━━━━━━━\u001b[0m \u001b[32m153.2/153.2 kB\u001b[0m \u001b[31m12.4 MB/s\u001b[0m eta \u001b[36m0:00:00\u001b[0m\n",
      "\u001b[?25hDownloading langchain_community-0.3.27-py3-none-any.whl (2.5 MB)\n",
      "\u001b[2K   \u001b[90m━━━━━━━━━━━━━━━━━━━━━━━━━━━━━━━━━━━━━━━━\u001b[0m \u001b[32m2.5/2.5 MB\u001b[0m \u001b[31m81.8 MB/s\u001b[0m eta \u001b[36m0:00:00\u001b[0m\n",
      "\u001b[?25hDownloading langchain_huggingface-0.3.1-py3-none-any.whl (27 kB)\n",
      "Downloading langchain_ollama-0.3.6-py3-none-any.whl (24 kB)\n",
      "Downloading faiss_cpu-1.11.0.post1-cp311-cp311-manylinux_2_27_x86_64.manylinux_2_28_x86_64.whl (31.3 MB)\n",
      "\u001b[2K   \u001b[90m━━━━━━━━━━━━━━━━━━━━━━━━━━━━━━━━━━━━━━━━\u001b[0m \u001b[32m31.3/31.3 MB\u001b[0m \u001b[31m69.1 MB/s\u001b[0m eta \u001b[36m0:00:00\u001b[0m\n",
      "\u001b[?25hDownloading pypdf-6.0.0-py3-none-any.whl (310 kB)\n",
      "\u001b[2K   \u001b[90m━━━━━━━━━━━━━━━━━━━━━━━━━━━━━━━━━━━━━━━━\u001b[0m \u001b[32m310.5/310.5 kB\u001b[0m \u001b[31m34.2 MB/s\u001b[0m eta \u001b[36m0:00:00\u001b[0m\n",
      "\u001b[?25hDownloading langchain_openai-0.3.29-py3-none-any.whl (74 kB)\n",
      "\u001b[2K   \u001b[90m━━━━━━━━━━━━━━━━━━━━━━━━━━━━━━━━━━━━━━━━\u001b[0m \u001b[32m74.3/74.3 kB\u001b[0m \u001b[31m9.5 MB/s\u001b[0m eta \u001b[36m0:00:00\u001b[0m\n",
      "\u001b[?25hDownloading langchain_core-0.3.74-py3-none-any.whl (443 kB)\n",
      "\u001b[2K   \u001b[90m━━━━━━━━━━━━━━━━━━━━━━━━━━━━━━━━━━━━━━━━\u001b[0m \u001b[32m443.5/443.5 kB\u001b[0m \u001b[31m44.1 MB/s\u001b[0m eta \u001b[36m0:00:00\u001b[0m\n",
      "\u001b[?25hDownloading dataclasses_json-0.6.7-py3-none-any.whl (28 kB)\n",
      "Downloading httpx_sse-0.4.1-py3-none-any.whl (8.1 kB)\n",
      "Downloading langgraph_checkpoint-2.1.1-py3-none-any.whl (43 kB)\n",
      "\u001b[2K   \u001b[90m━━━━━━━━━━━━━━━━━━━━━━━━━━━━━━━━━━━━━━━━\u001b[0m \u001b[32m43.9/43.9 kB\u001b[0m \u001b[31m5.5 MB/s\u001b[0m eta \u001b[36m0:00:00\u001b[0m\n",
      "\u001b[?25hDownloading langgraph_prebuilt-0.6.4-py3-none-any.whl (28 kB)\n",
      "Downloading langgraph_sdk-0.2.0-py3-none-any.whl (50 kB)\n",
      "\u001b[2K   \u001b[90m━━━━━━━━━━━━━━━━━━━━━━━━━━━━━━━━━━━━━━━━\u001b[0m \u001b[32m50.6/50.6 kB\u001b[0m \u001b[31m6.7 MB/s\u001b[0m eta \u001b[36m0:00:00\u001b[0m\n",
      "\u001b[?25hDownloading ollama-0.5.3-py3-none-any.whl (13 kB)\n",
      "Downloading pydantic_settings-2.10.1-py3-none-any.whl (45 kB)\n",
      "\u001b[2K   \u001b[90m━━━━━━━━━━━━━━━━━━━━━━━━━━━━━━━━━━━━━━━━\u001b[0m \u001b[32m45.2/45.2 kB\u001b[0m \u001b[31m5.7 MB/s\u001b[0m eta \u001b[36m0:00:00\u001b[0m\n",
      "\u001b[?25hDownloading nvidia_cublas_cu12-12.4.5.8-py3-none-manylinux2014_x86_64.whl (363.4 MB)\n",
      "\u001b[2K   \u001b[90m━━━━━━━━━━━━━━━━━━━━━━━━━━━━━━━━━━━━━━━━\u001b[0m \u001b[32m363.4/363.4 MB\u001b[0m \u001b[31m3.9 MB/s\u001b[0m eta \u001b[36m0:00:00\u001b[0m\n",
      "\u001b[?25hDownloading nvidia_cuda_cupti_cu12-12.4.127-py3-none-manylinux2014_x86_64.whl (13.8 MB)\n",
      "\u001b[2K   \u001b[90m━━━━━━━━━━━━━━━━━━━━━━━━━━━━━━━━━━━━━━━━\u001b[0m \u001b[32m13.8/13.8 MB\u001b[0m \u001b[31m108.0 MB/s\u001b[0m eta \u001b[36m0:00:00\u001b[0m\n",
      "\u001b[?25hDownloading nvidia_cuda_nvrtc_cu12-12.4.127-py3-none-manylinux2014_x86_64.whl (24.6 MB)\n",
      "\u001b[2K   \u001b[90m━━━━━━━━━━━━━━━━━━━━━━━━━━━━━━━━━━━━━━━━\u001b[0m \u001b[32m24.6/24.6 MB\u001b[0m \u001b[31m77.5 MB/s\u001b[0m eta \u001b[36m0:00:00\u001b[0m\n",
      "\u001b[?25hDownloading nvidia_cuda_runtime_cu12-12.4.127-py3-none-manylinux2014_x86_64.whl (883 kB)\n",
      "\u001b[2K   \u001b[90m━━━━━━━━━━━━━━━━━━━━━━━━━━━━━━━━━━━━━━━━\u001b[0m \u001b[32m883.7/883.7 kB\u001b[0m \u001b[31m65.6 MB/s\u001b[0m eta \u001b[36m0:00:00\u001b[0m\n",
      "\u001b[?25hDownloading nvidia_cudnn_cu12-9.1.0.70-py3-none-manylinux2014_x86_64.whl (664.8 MB)\n",
      "\u001b[2K   \u001b[90m━━━━━━━━━━━━━━━━━━━━━━━━━━━━━━━━━━━━━━━━\u001b[0m \u001b[32m664.8/664.8 MB\u001b[0m \u001b[31m2.9 MB/s\u001b[0m eta \u001b[36m0:00:00\u001b[0m\n",
      "\u001b[?25hDownloading nvidia_cufft_cu12-11.2.1.3-py3-none-manylinux2014_x86_64.whl (211.5 MB)\n",
      "\u001b[2K   \u001b[90m━━━━━━━━━━━━━━━━━━━━━━━━━━━━━━━━━━━━━━━━\u001b[0m \u001b[32m211.5/211.5 MB\u001b[0m \u001b[31m5.6 MB/s\u001b[0m eta \u001b[36m0:00:00\u001b[0m\n",
      "\u001b[?25hDownloading nvidia_curand_cu12-10.3.5.147-py3-none-manylinux2014_x86_64.whl (56.3 MB)\n",
      "\u001b[2K   \u001b[90m━━━━━━━━━━━━━━━━━━━━━━━━━━━━━━━━━━━━━━━━\u001b[0m \u001b[32m56.3/56.3 MB\u001b[0m \u001b[31m15.5 MB/s\u001b[0m eta \u001b[36m0:00:00\u001b[0m\n",
      "\u001b[?25hDownloading nvidia_cusolver_cu12-11.6.1.9-py3-none-manylinux2014_x86_64.whl (127.9 MB)\n",
      "\u001b[2K   \u001b[90m━━━━━━━━━━━━━━━━━━━━━━━━━━━━━━━━━━━━━━━━\u001b[0m \u001b[32m127.9/127.9 MB\u001b[0m \u001b[31m7.7 MB/s\u001b[0m eta \u001b[36m0:00:00\u001b[0m\n",
      "\u001b[?25hDownloading nvidia_cusparse_cu12-12.3.1.170-py3-none-manylinux2014_x86_64.whl (207.5 MB)\n",
      "\u001b[2K   \u001b[90m━━━━━━━━━━━━━━━━━━━━━━━━━━━━━━━━━━━━━━━━\u001b[0m \u001b[32m207.5/207.5 MB\u001b[0m \u001b[31m5.4 MB/s\u001b[0m eta \u001b[36m0:00:00\u001b[0m\n",
      "\u001b[?25hDownloading nvidia_nccl_cu12-2.21.5-py3-none-manylinux2014_x86_64.whl (188.7 MB)\n",
      "\u001b[2K   \u001b[90m━━━━━━━━━━━━━━━━━━━━━━━━━━━━━━━━━━━━━━━━\u001b[0m \u001b[32m188.7/188.7 MB\u001b[0m \u001b[31m6.3 MB/s\u001b[0m eta \u001b[36m0:00:00\u001b[0m\n",
      "\u001b[?25hDownloading nvidia_nvjitlink_cu12-12.4.127-py3-none-manylinux2014_x86_64.whl (21.1 MB)\n",
      "\u001b[2K   \u001b[90m━━━━━━━━━━━━━━━━━━━━━━━━━━━━━━━━━━━━━━━━\u001b[0m \u001b[32m21.1/21.1 MB\u001b[0m \u001b[31m33.7 MB/s\u001b[0m eta \u001b[36m0:00:00\u001b[0m\n",
      "\u001b[?25hDownloading marshmallow-3.26.1-py3-none-any.whl (50 kB)\n",
      "\u001b[2K   \u001b[90m━━━━━━━━━━━━━━━━━━━━━━━━━━━━━━━━━━━━━━━━\u001b[0m \u001b[32m50.9/50.9 kB\u001b[0m \u001b[31m6.0 MB/s\u001b[0m eta \u001b[36m0:00:00\u001b[0m\n",
      "\u001b[?25hDownloading ormsgpack-1.10.0-cp311-cp311-manylinux_2_17_x86_64.manylinux2014_x86_64.whl (216 kB)\n",
      "\u001b[2K   \u001b[90m━━━━━━━━━━━━━━━━━━━━━━━━━━━━━━━━━━━━━━━━\u001b[0m \u001b[32m216.5/216.5 kB\u001b[0m \u001b[31m23.3 MB/s\u001b[0m eta \u001b[36m0:00:00\u001b[0m\n",
      "\u001b[?25hDownloading python_dotenv-1.1.1-py3-none-any.whl (20 kB)\n",
      "Downloading typing_inspect-0.9.0-py3-none-any.whl (8.8 kB)\n",
      "Downloading mypy_extensions-1.1.0-py3-none-any.whl (5.0 kB)\n",
      "Installing collected packages: python-dotenv, pypdf, ormsgpack, nvidia-nvjitlink-cu12, nvidia-nccl-cu12, nvidia-curand-cu12, nvidia-cufft-cu12, nvidia-cuda-runtime-cu12, nvidia-cuda-nvrtc-cu12, nvidia-cuda-cupti-cu12, nvidia-cublas-cu12, mypy-extensions, marshmallow, httpx-sse, faiss-cpu, typing-inspect, nvidia-cusparse-cu12, nvidia-cudnn-cu12, pydantic-settings, ollama, nvidia-cusolver-cu12, langgraph-sdk, dataclasses-json, langchain-core, langgraph-checkpoint, langchain-openai, langchain-ollama, langchain-huggingface, langgraph-prebuilt, langgraph, langchain-community\n",
      "  Attempting uninstall: nvidia-nvjitlink-cu12\n",
      "    Found existing installation: nvidia-nvjitlink-cu12 12.5.82\n",
      "    Uninstalling nvidia-nvjitlink-cu12-12.5.82:\n",
      "      Successfully uninstalled nvidia-nvjitlink-cu12-12.5.82\n",
      "  Attempting uninstall: nvidia-nccl-cu12\n",
      "    Found existing installation: nvidia-nccl-cu12 2.23.4\n",
      "    Uninstalling nvidia-nccl-cu12-2.23.4:\n",
      "      Successfully uninstalled nvidia-nccl-cu12-2.23.4\n",
      "  Attempting uninstall: nvidia-curand-cu12\n",
      "    Found existing installation: nvidia-curand-cu12 10.3.6.82\n",
      "    Uninstalling nvidia-curand-cu12-10.3.6.82:\n",
      "      Successfully uninstalled nvidia-curand-cu12-10.3.6.82\n",
      "  Attempting uninstall: nvidia-cufft-cu12\n",
      "    Found existing installation: nvidia-cufft-cu12 11.2.3.61\n",
      "    Uninstalling nvidia-cufft-cu12-11.2.3.61:\n",
      "      Successfully uninstalled nvidia-cufft-cu12-11.2.3.61\n",
      "  Attempting uninstall: nvidia-cuda-runtime-cu12\n",
      "    Found existing installation: nvidia-cuda-runtime-cu12 12.5.82\n",
      "    Uninstalling nvidia-cuda-runtime-cu12-12.5.82:\n",
      "      Successfully uninstalled nvidia-cuda-runtime-cu12-12.5.82\n",
      "  Attempting uninstall: nvidia-cuda-nvrtc-cu12\n",
      "    Found existing installation: nvidia-cuda-nvrtc-cu12 12.5.82\n",
      "    Uninstalling nvidia-cuda-nvrtc-cu12-12.5.82:\n",
      "      Successfully uninstalled nvidia-cuda-nvrtc-cu12-12.5.82\n",
      "  Attempting uninstall: nvidia-cuda-cupti-cu12\n",
      "    Found existing installation: nvidia-cuda-cupti-cu12 12.5.82\n",
      "    Uninstalling nvidia-cuda-cupti-cu12-12.5.82:\n",
      "      Successfully uninstalled nvidia-cuda-cupti-cu12-12.5.82\n",
      "  Attempting uninstall: nvidia-cublas-cu12\n",
      "    Found existing installation: nvidia-cublas-cu12 12.5.3.2\n",
      "    Uninstalling nvidia-cublas-cu12-12.5.3.2:\n",
      "      Successfully uninstalled nvidia-cublas-cu12-12.5.3.2\n",
      "  Attempting uninstall: nvidia-cusparse-cu12\n",
      "    Found existing installation: nvidia-cusparse-cu12 12.5.1.3\n",
      "    Uninstalling nvidia-cusparse-cu12-12.5.1.3:\n",
      "      Successfully uninstalled nvidia-cusparse-cu12-12.5.1.3\n",
      "  Attempting uninstall: nvidia-cudnn-cu12\n",
      "    Found existing installation: nvidia-cudnn-cu12 9.3.0.75\n",
      "    Uninstalling nvidia-cudnn-cu12-9.3.0.75:\n",
      "      Successfully uninstalled nvidia-cudnn-cu12-9.3.0.75\n",
      "  Attempting uninstall: nvidia-cusolver-cu12\n",
      "    Found existing installation: nvidia-cusolver-cu12 11.6.3.83\n",
      "    Uninstalling nvidia-cusolver-cu12-11.6.3.83:\n",
      "      Successfully uninstalled nvidia-cusolver-cu12-11.6.3.83\n",
      "  Attempting uninstall: langchain-core\n",
      "    Found existing installation: langchain-core 0.3.72\n",
      "    Uninstalling langchain-core-0.3.72:\n",
      "      Successfully uninstalled langchain-core-0.3.72\n",
      "Successfully installed dataclasses-json-0.6.7 faiss-cpu-1.11.0.post1 httpx-sse-0.4.1 langchain-community-0.3.27 langchain-core-0.3.74 langchain-huggingface-0.3.1 langchain-ollama-0.3.6 langchain-openai-0.3.29 langgraph-0.6.4 langgraph-checkpoint-2.1.1 langgraph-prebuilt-0.6.4 langgraph-sdk-0.2.0 marshmallow-3.26.1 mypy-extensions-1.1.0 nvidia-cublas-cu12-12.4.5.8 nvidia-cuda-cupti-cu12-12.4.127 nvidia-cuda-nvrtc-cu12-12.4.127 nvidia-cuda-runtime-cu12-12.4.127 nvidia-cudnn-cu12-9.1.0.70 nvidia-cufft-cu12-11.2.1.3 nvidia-curand-cu12-10.3.5.147 nvidia-cusolver-cu12-11.6.1.9 nvidia-cusparse-cu12-12.3.1.170 nvidia-nccl-cu12-2.21.5 nvidia-nvjitlink-cu12-12.4.127 ollama-0.5.3 ormsgpack-1.10.0 pydantic-settings-2.10.1 pypdf-6.0.0 python-dotenv-1.1.1 typing-inspect-0.9.0\n"
     ]
    }
   ],
   "source": [
    "!pip install\\\n",
    "  langgraph\\\n",
    "  langchain\\\n",
    "  langchain-community\\\n",
    "  langchain-core\\\n",
    "  langchain-huggingface\\\n",
    "  langchain-text-splitters\\\n",
    "  langchain-ollama\\\n",
    "  huggingface-hub\\\n",
    "  faiss-cpu\\\n",
    "  sentence-transformers\\\n",
    "  requests\\\n",
    "  beautifulsoup4\\\n",
    "  pypdf\\\n",
    "  langchain-openai"
   ]
  },
  {
   "cell_type": "code",
   "execution_count": null,
   "metadata": {
    "id": "YgDpD65y2HKS"
   },
   "outputs": [],
   "source": [
    "from langgraph.graph import StateGraph, END\n",
    "import random\n",
    "import json\n",
    "from langchain_huggingface import HuggingFaceEmbeddings\n",
    "from langchain_text_splitters import RecursiveCharacterTextSplitter\n",
    "import pprint\n",
    "from langchain_community.document_loaders import TextLoader\n",
    "from langchain_community.embeddings.sentence_transformer import (SentenceTransformerEmbeddings)\n",
    "from langchain_core.prompts import PromptTemplate\n",
    "from langchain_core.output_parsers import StrOutputParser\n",
    "from abc import ABC, abstractmethod"
   ]
  },
  {
   "cell_type": "markdown",
   "metadata": {
    "id": "wdA_d9mDKPBv"
   },
   "source": [
    "# Add Huggingface and OpenAI tokens/keys"
   ]
  },
  {
   "cell_type": "code",
   "execution_count": null,
   "metadata": {
    "id": "fxYTQT5PKNfo"
   },
   "outputs": [],
   "source": [
    "from google.colab import userdata\n",
    "import getpass\n",
    "import os\n",
    "def _set_env(key: str, val: str):\n",
    "    if key not in os.environ:\n",
    "        os.environ[key] = val\n",
    "\n",
    "_set_env(\"OPENAI_API_KEY\", userdata.get('OPEN-AI'))\n",
    "_set_env(\"HUGGINGFACEHUB_API_TOKEN\", userdata.get('HF_TOKEN'))\n",
    "_set_env(\"LANGCHAIN_API_KEY\", userdata.get('LANGSMITH'))"
   ]
  },
  {
   "cell_type": "markdown",
   "metadata": {
    "id": "-KqC_DTUIurH"
   },
   "source": [
    "# Global Variables"
   ]
  },
  {
   "cell_type": "code",
   "execution_count": null,
   "metadata": {
    "id": "Wx22IyHmEmHa"
   },
   "outputs": [],
   "source": [
    "TOOLS = []\n",
    "EMBEDDING_MODEL_NAME = \"thenlper/gte-small\"\n",
    "MODELNAME = \"gpt-4o\"#\"gpt-4.1\" #\"gpt-4.1\" #\"gpt-4.1-nano\" gpt-4.1-mini"
   ]
  },
  {
   "cell_type": "markdown",
   "metadata": {
    "id": "s778O9hIIzg1"
   },
   "source": [
    "# Helper functions"
   ]
  },
  {
   "cell_type": "code",
   "execution_count": null,
   "metadata": {
    "id": "h3MuMkgBGB-b"
   },
   "outputs": [],
   "source": [
    "def pretty_print_docs(docs):\n",
    "    print(\n",
    "        f\"\\n{'-' * 100}\\n\".join(\n",
    "            [\n",
    "                f\"Document {i+1}:\\n\\n{d.page_content}\\nMetadata: {d.metadata}, Chunk Size: {d}\"\n",
    "                for i, d in enumerate(docs)\n",
    "            ]\n",
    "        )\n",
    "    )"
   ]
  },
  {
   "cell_type": "markdown",
   "metadata": {
    "id": "V9Rna37d3Buj"
   },
   "source": [
    "# Vector Store 1 and Retrieval Tool 1 - LRMC Research Paper Review"
   ]
  },
  {
   "cell_type": "code",
   "execution_count": null,
   "metadata": {
    "colab": {
     "base_uri": "https://localhost:8080/",
     "height": 369,
     "referenced_widgets": [
      "069f3ca70b264eb4b686f7ca756fd437",
      "db51448675ee466cb3053b644ef2139c",
      "4fdc9850271647339c4a68a8e3554dc5",
      "aaf569c4deee45c6998d04fae91cfd18",
      "792b7bb0241a41e781393ca08449054d",
      "8bbda7643bab4b73877dadb83b892585",
      "b9a6c6ff57e04d3cb5fb2182cbe11b5e",
      "bd587a78d5ab404c926aef07dc009230",
      "106cab0a0a0f489ba7660b1b5c532253",
      "c85de3497685426bae505773c50a1097",
      "41f138b32716469a9fc7a35711dac21e",
      "4502bc3f891844e38ed7eb83c92ee139",
      "69c4a5933ac745e5a5c480f0d8ac2f97",
      "6377a504f85341dfa4798f706ab94338",
      "bc6f70408e8043e3bc4f1db017496616",
      "61bd9be69b924fba82e73093701ac8a8",
      "b29ea38bb2b640b59fdd2c1cad38cdc0",
      "f874f1b9d72a4b63abc740c006bef315",
      "d0242089962e4eb1bb8506df8f2d412e",
      "7f09367b050c4a60a449b7612f939fc5",
      "69f1afc8d34f4c30a3d77ee0bc338ab2",
      "bdca1ef0a6744515966bfa5535f12e38",
      "08aefb7a270d4adaa9e427bc7abd60b4",
      "36d389d1a1b14503a86b3eb450bd4df9",
      "b98c373730b740f98b758c415e358897",
      "3120ed6dbb1647539f25164a171930dd",
      "8a1b599c8168433ab032667e355a3f7b",
      "daf178e94a47407e8799d133b38737d3",
      "5884abecde7d418390e37ee8ef8e689e",
      "2e33a16c925a446f97710c2c7af3fe1b",
      "e420ac934a50484b9a86f08eef35bf01",
      "340c24193428481094eee2d9ac54756c",
      "39e9cb506791472b8cbfb89ec4e6f3e9",
      "ecf96ce98d5547e79507e0483a4acde4",
      "84a3cc17372d477a8966727d63457728",
      "55de481e0185469c83f500a0d1ed64a8",
      "e57e0a923f55409f9e9242de28110908",
      "9d884b4d298a4ea4b0c3168735e05f19",
      "c2705806f1164e059946cfa1745f7539",
      "28668ffeb14844c3807617f2175c3237",
      "a49b4346c630466d91109a5f37330140",
      "73fecf7d04ad41e9b7a478f2255a9245",
      "500279595f884e37b7e35424ebb16750",
      "614f99389a7a4b4e94f1b16dd48e97ef",
      "eff266507d5b4186b248978f557cf1ca",
      "65eb600267e34d9aa9eed4a4f01c0459",
      "f92b857ddcfc411d9c51c19593cbf579",
      "3085b4dadeb84ffa8f2cdd6feb9e0f45",
      "8a282b3ecd434779bef04ad4ae013b76",
      "6732331112f842ddac3e913ccc070be6",
      "c9d44f4e565c46dd97a6ce653fdf9df6",
      "75eae3c948e8459195a3eba8e0b49eed",
      "c19a856c3f7146c09ff4ee4be0a42fde",
      "993013773c3746d8905b37f09140eb0f",
      "7c2e4446fc4c414db9361924a728a2d6",
      "79a020c3b83a4c37a9b34d781a6ec3a0",
      "5cc9b0adea2644c09d106d14ce32e033",
      "a23fc8f141ba4df68673f99b351e008d",
      "f7c2ce00b26d468ebd37ef55de4bbd11",
      "d16ae9d2cff944399031c4f27270fd11",
      "57d95d12b8ab4e8fa9934fa58d19e632",
      "6c51c186d91c4cc5a0af8da4799f62ff",
      "a4f95ddf773d46d096d6ce3b8c40e87c",
      "8e477f427b434ebe94295b72d163a401",
      "7a313a8b60ae4df09ffc07650da304c9",
      "1e8201cdcca6463a95480965ed8b3b3f",
      "98815a764be84f9589807e483522e5d5",
      "8a352e7df7024fb39bcb15be658d6850",
      "cd06c027c37043b4a7056168957e22e5",
      "99a843c9208442b2b997407bb6b833c8",
      "e131fd36144645f7ab0952c7de28c4e4",
      "467cdbdec8bd4d74b3aa278cffc4c16e",
      "e4d03600e4804c55b510dfef6eaef145",
      "cbdf65c6a8ac46809a4c8a73373166ed",
      "9756a95a585f43aa929def0d83d0b853",
      "6b580be3cffc479dbf87a81170f206f0",
      "2a775d35855f4c549b13ed86c6291932",
      "1e62b7982793469e9744c4d32faf060e",
      "93bb030645474b3b9577f38c9b65050b",
      "0396554049d74982943069b358fe6b45",
      "230c52230f2e42fa9ac3469ef8e32470",
      "bd273628a83c40ad8e96f75d503df6c6",
      "ce470c7f31ef4fc3876bab94a75efbc5",
      "11b19b07abb849b4a929b6793e23c83b",
      "af03963632194a5d8e04e56b1a0b4286",
      "3ca63d02ceb1477a9a75b42d38a1f013",
      "93f7d3d5e21c49dcb952cfca71f3683c",
      "95e42df7ee2b4c4f8b72b4c04a507692",
      "47ef7bdaf4bf400991ae22b32aa2a1ca",
      "0f566469b31f42c5b10ba43f767cc8d1",
      "a17109ab30094863ae91d29e9b91eabe",
      "d7baa97535154605b020d775f743f6d4",
      "f1ff8f7440a74cff803856fcaaa8fe08",
      "9f71c992f3bb487c94b6aabea578db1c",
      "0f7821f4c156404fac5a1aa5f3e9bd5e",
      "dbc36168355d4141a4123c004eb48ead",
      "ec980979b9ea484fbff6d72f7d4a24bb",
      "02ab441fa40a44a38590f5ac5f1605d6",
      "5c14e1f13ebb44f4b80a56ebeddf603f",
      "87f303abc5164553b58eb1714b3f0e0e",
      "b9acb57293a0404780af5808dc8be844",
      "09548c4679244a09b9ccdaf34c8f05d2",
      "83e8106b90204e6eb7fd05f86b5eaea0",
      "582813b4818045ce991a40b5aa72e974",
      "ca1a9a794866442cbd112bbffaefc938",
      "9e1681274cd140fc9106f170d2e6cc63",
      "45c4d0c99e80481997b838230bea9b17",
      "8e179e5988d846ea9bdc1e3a268187c2",
      "3f5b210e7f4346369edb280245dab1de",
      "4fec7c6f4b1c413b9d7644e01b94de62",
      "57e98449d705417fa4a741678a1f6fb2",
      "8a06f0de5ca44c60ac1243b2d81d18a5",
      "5a435448950d44cbb6ce751c4b73e947",
      "6b18c6f79e1540dab841bd356712cbca",
      "cae33fde7e1c44aa96feeef3ad7c6f29",
      "225d9adde1ab4a8cb882ca6f904ba2c0",
      "7ee253162e2e4f07beac9af9b45c67c9",
      "93ea506c24d940fcaff759986553f961",
      "d9893158ae534a47881c697c9c105290",
      "01bb7c3ec93e4c52b1230fc9c991bfea",
      "f1fde2ece3e346b380c94245ad591090"
     ]
    },
    "id": "X0G3EoGW3B48",
    "outputId": "bd2aa46b-f1af-4992-d2dd-d53473581846"
   },
   "outputs": [
    {
     "data": {
      "application/vnd.jupyter.widget-view+json": {
       "model_id": "069f3ca70b264eb4b686f7ca756fd437",
       "version_major": 2,
       "version_minor": 0
      },
      "text/plain": [
       "modules.json:   0%|          | 0.00/385 [00:00<?, ?B/s]"
      ]
     },
     "metadata": {},
     "output_type": "display_data"
    },
    {
     "data": {
      "application/vnd.jupyter.widget-view+json": {
       "model_id": "4502bc3f891844e38ed7eb83c92ee139",
       "version_major": 2,
       "version_minor": 0
      },
      "text/plain": [
       "README.md: 0.00B [00:00, ?B/s]"
      ]
     },
     "metadata": {},
     "output_type": "display_data"
    },
    {
     "data": {
      "application/vnd.jupyter.widget-view+json": {
       "model_id": "08aefb7a270d4adaa9e427bc7abd60b4",
       "version_major": 2,
       "version_minor": 0
      },
      "text/plain": [
       "sentence_bert_config.json:   0%|          | 0.00/57.0 [00:00<?, ?B/s]"
      ]
     },
     "metadata": {},
     "output_type": "display_data"
    },
    {
     "data": {
      "application/vnd.jupyter.widget-view+json": {
       "model_id": "ecf96ce98d5547e79507e0483a4acde4",
       "version_major": 2,
       "version_minor": 0
      },
      "text/plain": [
       "config.json:   0%|          | 0.00/583 [00:00<?, ?B/s]"
      ]
     },
     "metadata": {},
     "output_type": "display_data"
    },
    {
     "data": {
      "application/vnd.jupyter.widget-view+json": {
       "model_id": "eff266507d5b4186b248978f557cf1ca",
       "version_major": 2,
       "version_minor": 0
      },
      "text/plain": [
       "model.safetensors:   0%|          | 0.00/66.7M [00:00<?, ?B/s]"
      ]
     },
     "metadata": {},
     "output_type": "display_data"
    },
    {
     "data": {
      "application/vnd.jupyter.widget-view+json": {
       "model_id": "79a020c3b83a4c37a9b34d781a6ec3a0",
       "version_major": 2,
       "version_minor": 0
      },
      "text/plain": [
       "tokenizer_config.json:   0%|          | 0.00/394 [00:00<?, ?B/s]"
      ]
     },
     "metadata": {},
     "output_type": "display_data"
    },
    {
     "data": {
      "application/vnd.jupyter.widget-view+json": {
       "model_id": "98815a764be84f9589807e483522e5d5",
       "version_major": 2,
       "version_minor": 0
      },
      "text/plain": [
       "vocab.txt: 0.00B [00:00, ?B/s]"
      ]
     },
     "metadata": {},
     "output_type": "display_data"
    },
    {
     "data": {
      "application/vnd.jupyter.widget-view+json": {
       "model_id": "1e62b7982793469e9744c4d32faf060e",
       "version_major": 2,
       "version_minor": 0
      },
      "text/plain": [
       "tokenizer.json: 0.00B [00:00, ?B/s]"
      ]
     },
     "metadata": {},
     "output_type": "display_data"
    },
    {
     "data": {
      "application/vnd.jupyter.widget-view+json": {
       "model_id": "47ef7bdaf4bf400991ae22b32aa2a1ca",
       "version_major": 2,
       "version_minor": 0
      },
      "text/plain": [
       "special_tokens_map.json:   0%|          | 0.00/125 [00:00<?, ?B/s]"
      ]
     },
     "metadata": {},
     "output_type": "display_data"
    },
    {
     "data": {
      "application/vnd.jupyter.widget-view+json": {
       "model_id": "87f303abc5164553b58eb1714b3f0e0e",
       "version_major": 2,
       "version_minor": 0
      },
      "text/plain": [
       "config.json:   0%|          | 0.00/190 [00:00<?, ?B/s]"
      ]
     },
     "metadata": {},
     "output_type": "display_data"
    },
    {
     "data": {
      "application/vnd.jupyter.widget-view+json": {
       "model_id": "57e98449d705417fa4a741678a1f6fb2",
       "version_major": 2,
       "version_minor": 0
      },
      "text/plain": [
       "Batches:   0%|          | 0/22 [00:00<?, ?it/s]"
      ]
     },
     "metadata": {},
     "output_type": "display_data"
    }
   ],
   "source": [
    "from langchain_openai import OpenAIEmbeddings\n",
    "from langchain.tools.retriever import create_retriever_tool\n",
    "from langchain_community.vectorstores import FAISS #Chrome\n",
    "from langchain_huggingface import HuggingFaceEmbeddings\n",
    "\n",
    "\n",
    "chunkSize = 200\n",
    "chunkOverlap =  100\n",
    "numSearch = 5\n",
    "numRetain = 5\n",
    "reRank = 0\n",
    "hfEmbeddings = HuggingFaceEmbeddings(\n",
    "    model_name = EMBEDDING_MODEL_NAME,\n",
    "    show_progress = True,\n",
    ")\n",
    "#\n",
    "loader = TextLoader(\"reviewAltGDMinTxt.txt\")\n",
    "documents = loader.load()\n",
    "text_splitter = RecursiveCharacterTextSplitter.from_tiktoken_encoder(chunk_size=chunkSize, chunk_overlap=chunkOverlap)\n",
    "doc_splits = text_splitter.split_documents(documents)\n",
    "#pretty_print_docs(doc_splits)\n",
    "#print(\"Total number of documents = {num}\".format(num = len(doc_splits)))\n",
    "vectorstore1 = FAISS.from_documents(doc_splits,hfEmbeddings)\n",
    "retriever1 = vectorstore1.as_retriever(search_kwargs={\"k\":numSearch})\n",
    "retriever_tool1 = create_retriever_tool(\n",
    "    retriever1,\n",
    "    \"retrieve_altgdmin_information\",\n",
    "    \"Search and return information on AltGDMin algorithm\"\n",
    ")\n",
    "TOOLS.append(retriever_tool1)"
   ]
  },
  {
   "cell_type": "markdown",
   "metadata": {
    "id": "xS6QfQ953XY2"
   },
   "source": [
    "# Vector Store 2 and Retrieval Tool 2 - Strawberry Algorithm Review"
   ]
  },
  {
   "cell_type": "code",
   "execution_count": null,
   "metadata": {
    "colab": {
     "base_uri": "https://localhost:8080/",
     "height": 49,
     "referenced_widgets": [
      "5fbaca7b06c442e9a4925a2d582b7f3b",
      "bdf44a02b88648f08d96f47f42d90283",
      "7bdef84cb6fb4252ba7e04a5f7577ea2",
      "38e5671e3b3f4797860ba916fedd7a81",
      "8045f97bd92b430ba2be6a53a9832ebf",
      "21b5bf91548244179e523e9250b39238",
      "b18381d1e3a745ae82d4c47ea3c4cfd2",
      "6c5db6a16e9d484ebcc6d2dd30c83be6",
      "5460692e346f4f79bf63b05224c12e78",
      "7378bf541bef4d2ba52f8649d9f774f7",
      "48684c3304614068af5493173b1af834"
     ]
    },
    "id": "DNPiNc8L3ZIt",
    "outputId": "f2b4d373-fd7a-4f65-92f5-c6394e1aeded"
   },
   "outputs": [
    {
     "data": {
      "application/vnd.jupyter.widget-view+json": {
       "model_id": "5fbaca7b06c442e9a4925a2d582b7f3b",
       "version_major": 2,
       "version_minor": 0
      },
      "text/plain": [
       "Batches:   0%|          | 0/9 [00:00<?, ?it/s]"
      ]
     },
     "metadata": {},
     "output_type": "display_data"
    }
   ],
   "source": [
    "chunkSize = 200\n",
    "chunkOverlap =  100\n",
    "numSearch = 5\n",
    "numRetain = 5\n",
    "reRank = 0\n",
    "hfEmbeddings = HuggingFaceEmbeddings(\n",
    "    model_name = EMBEDDING_MODEL_NAME,\n",
    "    show_progress = True,\n",
    ")\n",
    "#\n",
    "loader = TextLoader(\"strawberry.txt\")\n",
    "documents = loader.load()\n",
    "text_splitter = RecursiveCharacterTextSplitter.from_tiktoken_encoder(chunk_size=chunkSize, chunk_overlap=chunkOverlap)\n",
    "doc_splits = text_splitter.split_documents(documents)\n",
    "#pretty_print_docs(doc_splits)\n",
    "#print(\"Total number of documents = {num}\".format(num = len(doc_splits)))\n",
    "vectorstore2 = FAISS.from_documents(doc_splits,hfEmbeddings)\n",
    "retriever2 = vectorstore2.as_retriever(search_kwargs={\"k\":numSearch})\n",
    "retriever_tool2 = create_retriever_tool(\n",
    "    retriever2,\n",
    "    \"retrieve_strawberry_information\",\n",
    "    \"Search and return information on the strawberry algorithm\"\n",
    ")\n",
    "TOOLS.append(retriever_tool2)"
   ]
  },
  {
   "cell_type": "markdown",
   "metadata": {
    "id": "ShJHbSqBBdUb"
   },
   "source": [
    "# Linear Assignment Tool"
   ]
  },
  {
   "cell_type": "code",
   "execution_count": null,
   "metadata": {
    "id": "HAhkF7UiCakr"
   },
   "outputs": [],
   "source": [
    "from pydantic import BaseModel, Field\n",
    "from typing import List, Literal\n",
    "import numpy as np\n",
    "from langchain.tools import Tool\n",
    "from scipy.optimize import linear_sum_assignment\n",
    "\n",
    "class costMatrixClass(BaseModel):\n",
    "  M: List[List[float]] = Field(description=\"This is the cost matrix of float numbers.\")\n",
    "\n",
    "def solveLAP(M):\n",
    "  A = np.array(M)\n",
    "  row_ind, col_ind = linear_sum_assignment(A)\n",
    "  return {\"messages\": [row_ind,col_ind]}\n",
    "  #return M_np\n",
    "\n",
    "# Create a Tool instance\n",
    "squareTool = Tool.from_function(\n",
    "    func=solveLAP,\n",
    "    name=\"squareMatrix\",\n",
    "    description=\"Solves linear assignment problem (LAP).\",\n",
    "    args_schema=costMatrixClass)\n",
    "\n",
    "TOOLS.append(squareTool)"
   ]
  },
  {
   "cell_type": "markdown",
   "metadata": {
    "id": "cQCU44K_B2f-"
   },
   "source": [
    "# Graph Nodes and Conditional Edges"
   ]
  },
  {
   "cell_type": "code",
   "execution_count": null,
   "metadata": {
    "id": "ELXGQvRqBhWD"
   },
   "outputs": [],
   "source": [
    "from pydantic import BaseModel, Field\n",
    "from langchain_core.messages import BaseMessage, HumanMessage\n",
    "from langchain import hub\n",
    "from langchain_openai import ChatOpenAI\n",
    "from typing import Literal\n",
    "\n",
    "\n",
    "# Node\n",
    "def agent(state):\n",
    "    \"\"\"\n",
    "    Invokes the agent model to generate a response based on the current state. Given\n",
    "    the question, it will decide to retrieve using the retriever tool, or simply end.\n",
    "\n",
    "    Args:\n",
    "        state (messages): The current state\n",
    "\n",
    "    Returns:\n",
    "        dict: The updated state with the agent response appended to messages\n",
    "    \"\"\"\n",
    "    #print(\"---CALL AGENT---\")\n",
    "    messages = state[\"messages\"]\n",
    "    model = ChatOpenAI(temperature=0, streaming=True, model=MODELNAME)\n",
    "    #model = ChatOllama(temperature=0, model=MODELNAME,streaming=True)\n",
    "    model = model.bind_tools(TOOLS)\n",
    "    response = model.invoke(messages)\n",
    "    # We return a list, because this will get added to the existing list\n",
    "    return {\"messages\": [response]}\n",
    "\n",
    "# Conditional Edge\n",
    "def router(state) -> Literal[\"generate\", \"rewrite\", \"LAP\"]:\n",
    "    \"\"\"\n",
    "    Determines whether the retrieved documents are relevant to the question.\n",
    "\n",
    "    Args:\n",
    "        state (messages): The current state\n",
    "\n",
    "    Returns:\n",
    "        str: A decision for whether the documents are relevant or not\n",
    "    \"\"\"\n",
    "\n",
    "    #print(\"---CHECK RELEVANCE---\")\n",
    "    messages = state[\"messages\"]\n",
    "    if hasattr(messages[-2],\"tool_calls\"):\n",
    "          toolName =  messages[-2].tool_calls[0][\"name\"]\n",
    "    else:\n",
    "      toolName = \"none\"\n",
    "\n",
    "    if toolName == \"squareMatrix\":\n",
    "      return \"LAP\"\n",
    "    else:\n",
    "      # Data model\n",
    "      class grade(BaseModel):\n",
    "          \"\"\"Binary score for relevance check.\"\"\"\n",
    "          binary_score: str = Field(description=\"Relevance score 'yes' or 'no'\")\n",
    "\n",
    "      # LLM\n",
    "      model = ChatOpenAI(temperature=0, model=MODELNAME, streaming=True)\n",
    "      # LLM with tool and validation\n",
    "      llm_with_tool = model.with_structured_output(grade)\n",
    "      prompt = PromptTemplate(\n",
    "          template=\"\"\"You are a grader assessing relevance of a retrieved document to a user question. \\n\n",
    "          Here is the retrieved document: \\n\\n {context} \\n\\n\n",
    "          Here is the user question: {question} \\n\n",
    "          If the document contains keyword(s) or semantic meaning related to the user question, grade it as relevant. \\n\n",
    "          Give a binary score 'yes' or 'no' score to indicate whether the document is relevant to the question.\"\"\",\n",
    "          input_variables=[\"context\", \"question\"],\n",
    "      )\n",
    "\n",
    "      # Chain\n",
    "      chain = prompt | llm_with_tool\n",
    "\n",
    "      last_message = messages[-1]\n",
    "\n",
    "      question = messages[0].content\n",
    "      docs = last_message.content\n",
    "      scored_result = chain.invoke({\"question\": question, \"context\": docs})\n",
    "      score = scored_result.binary_score\n",
    "      if score == \"yes\":\n",
    "          #print(\"---DECISION: DOCS RELEVANT---\")\n",
    "          return \"generate\"\n",
    "      else:\n",
    "          #print(\"---DECISION: DOCS NOT RELEVANT---\")\n",
    "          #print(score)\n",
    "          return \"rewrite\"\n",
    "\n",
    "# Node\n",
    "def rewrite(state):\n",
    "    \"\"\"\n",
    "    Transform the query to produce a better question.\n",
    "\n",
    "    Args:\n",
    "        state (messages): The current state\n",
    "\n",
    "    Returns:\n",
    "        dict: The updated state with re-phrased question\n",
    "    \"\"\"\n",
    "\n",
    "    #print(\"---TRANSFORM QUERY---\")\n",
    "    messages = state[\"messages\"]\n",
    "    question = messages[0].content\n",
    "\n",
    "    msg = [\n",
    "        HumanMessage(\n",
    "            content=f\"\"\" \\n\n",
    "    Look at the input and try to reason about the underlying semantic intent / meaning. \\n\n",
    "    Here is the initial question:\n",
    "    \\n ------- \\n\n",
    "    {question}\n",
    "    \\n ------- \\n\n",
    "    Formulate an improved question: \"\"\",\n",
    "        )\n",
    "    ]\n",
    "\n",
    "    # Grader\n",
    "    model = ChatOpenAI(temperature=0, model=MODELNAME, streaming=True)\n",
    "    response = model.invoke(msg)\n",
    "    return {\"messages\": [response]}\n",
    "\n",
    "# Node\n",
    "def generate(state):\n",
    "    \"\"\"\n",
    "    Generate answer\n",
    "\n",
    "    Args:\n",
    "        state (messages): The current state\n",
    "\n",
    "    Returns:\n",
    "         dict: The updated state with re-phrased question\n",
    "    \"\"\"\n",
    "    #print(\"---GENERATE---\")\n",
    "    messages = state[\"messages\"]\n",
    "    question = messages[0].content\n",
    "    last_message = messages[-1]\n",
    "\n",
    "    docs = last_message.content\n",
    "\n",
    "    # Prompt\n",
    "    prompt = hub.pull(\"rlm/rag-prompt\")\n",
    "\n",
    "    # LLM\n",
    "    llm = ChatOpenAI(model_name=MODELNAME, temperature=0, streaming=True)\n",
    "    # Post-processing\n",
    "    def format_docs(docs):\n",
    "        return \"\\n\\n\".join(doc.page_content for doc in docs)\n",
    "\n",
    "    # Chain\n",
    "    rag_chain = prompt | llm | StrOutputParser()\n",
    "\n",
    "    # Run\n",
    "    response = rag_chain.invoke({\"context\": docs, \"question\": question})\n",
    "    return {\"messages\": [response]}\n",
    "\n",
    "# Node\n",
    "def LAP(state):\n",
    "    \"\"\"\n",
    "    Solve the assignment problem\n",
    "\n",
    "    Args:\n",
    "        state (messages): The current state\n",
    "\n",
    "    Returns:\n",
    "         dict: The updated state with re-phrased question\n",
    "    \"\"\"\n",
    "    #print(\"---SOLVE---\")\n",
    "    messages = state[\"messages\"]\n",
    "    return {\"messages\": messages[-1]}\n",
    "\n",
    "\n",
    "\n",
    "#print(\"ChunkSize = {chunkSize}, chunkOverlap = {chunkOverlap}, numSearch = {numSearch}, numRetain = {numRetain}, reRank = {reRank}\".format(chunkSize=chunkSize,chunkOverlap=chunkOverlap, numSearch=numSearch, numRetain=numRetain, reRank=reRank))\n",
    "#print(\"*\" * 20 + \"Prompt[rlm/rag-prompt]\" + \"*\" * 20)\n",
    "#prompt = hub.pull(\"rlm/rag-prompt\").pretty_print()  # Show what the prompt looks like"
   ]
  },
  {
   "cell_type": "markdown",
   "metadata": {
    "id": "g-fVXXnmMHQN"
   },
   "source": [
    "# Compile Graph"
   ]
  },
  {
   "cell_type": "code",
   "execution_count": null,
   "metadata": {
    "id": "tO5fjc7wD6iB"
   },
   "outputs": [],
   "source": [
    "from typing import Annotated, Sequence\n",
    "from langgraph.prebuilt import tools_condition\n",
    "from langgraph.graph.message import add_messages\n",
    "from langgraph.graph import END, StateGraph, START\n",
    "from langgraph.prebuilt import ToolNode\n",
    "from typing_extensions import TypedDict\n",
    "\n",
    "\n",
    "# NODES\n",
    "class AgentState(TypedDict):\n",
    "    # The add_messages function defines how an update should be processe  Default is to replace. add_messages says \"append\"\n",
    "    messages: Annotated[Sequence[BaseMessage], add_messages]\n",
    "# Define a new graph\n",
    "workflow = StateGraph(AgentState)\n",
    "# Define the nodes we will cycle between\n",
    "workflow.add_node(\"agent\", agent)  # agent\n",
    "myTools = ToolNode(TOOLS)\n",
    "workflow.add_node(\"myTools\", myTools)  # all three tools\n",
    "workflow.add_node(\"LAP\", LAP)  # Linear Assignment\n",
    "workflow.add_node(\"rewrite\", rewrite)  # Re-writing the question\n",
    "workflow.add_node(\"generate\", generate)  # Generating a response after we know the documents are relevant\n",
    "#-------------------------------------------------------------------------------------------------------------\n",
    "# EDGES\n",
    "# Call agent node to decide to retrieve or not\n",
    "workflow.add_edge(START, \"agent\")\n",
    "# Decide whether to retrieve\n",
    "workflow.add_conditional_edges(\n",
    "    \"agent\",\n",
    "    # Assess agent decision\n",
    "    tools_condition,\n",
    "    {\n",
    "        # Translate the condition outputs to nodes in our graph\n",
    "        \"tools\": \"myTools\",\n",
    "        END: END,\n",
    "    },\n",
    ")\n",
    "\n",
    "# Edges taken after the `action` node is called.\n",
    "workflow.add_conditional_edges(\n",
    "    \"myTools\",\n",
    "    router,\n",
    ")\n",
    "workflow.add_edge(\"LAP\", END)\n",
    "workflow.add_edge(\"generate\", END)\n",
    "workflow.add_edge(\"rewrite\", \"agent\")\n",
    "graph = workflow.compile()"
   ]
  },
  {
   "cell_type": "markdown",
   "metadata": {
    "id": "IWTuFk1Dl0no"
   },
   "source": [
    "# Visualize Graph of Mathcrow"
   ]
  },
  {
   "cell_type": "code",
   "execution_count": null,
   "metadata": {
    "colab": {
     "base_uri": "https://localhost:8080/",
     "height": 473
    },
    "id": "NX4agf1nl2b7",
    "outputId": "6e0e1fd6-cf5e-4aa8-de33-0feaf3836c88"
   },
   "outputs": [
    {
     "data": {
      "image/png": "[encoded data removed]",
      "text/plain": [
       "<IPython.core.display.Image object>"
      ]
     },
     "metadata": {},
     "output_type": "display_data"
    }
   ],
   "source": [
    "%pip install -qU langgraph\n",
    "from IPython.display import Image, display\n",
    "try:\n",
    "    display(Image(graph.get_graph().draw_mermaid_png(max_retries=5, retry_delay=2.0)))\n",
    "except Exception:\n",
    "    pass"
   ]
  },
  {
   "cell_type": "markdown",
   "metadata": {
    "id": "nwD4zwugQoEL"
   },
   "source": [
    "# Examples of Tool 1 Usage - RAG AltGDMin"
   ]
  },
  {
   "cell_type": "code",
   "execution_count": null,
   "metadata": {
    "colab": {
     "base_uri": "https://localhost:8080/",
     "height": 1000,
     "referenced_widgets": [
      "a3a3d1b4d3a147baaa7f1e80feb715fd",
      "dc46830960dc4f708ad6e85c1ad3d5bf",
      "cc1848e28ff84877989d1a77dcf9c87f",
      "664ad64e845145d198daf4512fb8e9ca",
      "9aa973dd10e341f0adf0fe3c9d265234",
      "78303d7719494d3498553085c5d66dd2",
      "f1f0a66794d54f04b86a7d8377c1cb7c",
      "80382486320349b79f5107e8160fd6e2",
      "d27716785bd74468a875f6b6d65e4e5f",
      "02af73eecfeb47a28ca1185d27f9c977",
      "c8e0656489b348b589ff8a0691dfd2b3",
      "eee8fefb74dc490a8e4cd01ab38c7d97",
      "bea4ad0c43a34ea99f76a75eefaf4696",
      "a281a04815c24312af48e40aaf468b0b",
      "900a95407355444791994c6e4db11408",
      "438c092d04ae4784ba92e24ccc414393",
      "a0e044d5b735488eab652dc0e9dc3369",
      "b56a08a559b24b5bb22081ca88b17a4f",
      "9bcc2c8d5dee4e8c9aeff091e1c8bb1b",
      "2753becf758a4fc4ac749296b0ce6136",
      "7ce1992f54514310b59a5df508e64bc4",
      "310060ee211a48afb97c4ab581abc91d",
      "a18667d515b04c129797ab8f1958b8c3",
      "c9323e262f254dee82d008ce59e6c21f",
      "6027e4a73bd44d6a8e57822eb2bae98a",
      "3ffd05371c7f49e2867d6997f6ce5e0d",
      "a16c93e91388418d8863eabd514d41d6",
      "22440b6ecd2c4c8abb1fa38d3a40b2cc",
      "9c619777aeb04b34bf4d7df8869cddbe",
      "229b71620e884ef7b0c48466fca5ea87",
      "6a365422cf0e44cfb83df41acc2f2e85",
      "d650ac357c1049849d395136bb5d4260",
      "f484dbfd567742debb47c009e03968b6",
      "f11bfc88ce1144b28335eaba8e6a9c81",
      "729bdc62b2cd4e92a62e5ffd4259934d",
      "2f323237db034314b1b08682b0a9a27b",
      "c9d2a761b07c4e69bd24e38b6de6a08a",
      "6f19e8f66b0f4342988660647fea0a7a",
      "342b2f88bc164ecb811b6655a4a888b4",
      "3070da552ce340a8821098ec73682550",
      "b0b1af1dee34491d8f2b3cb226bec8fd",
      "26955396219a4537bcd8881aa5e72bef",
      "44974fd7c16a4e36b1e6d2a53ac4e630",
      "9c4db37c26db48db8e882bb561a6d73e"
     ]
    },
    "id": "PkB3oNg8qkUN",
    "outputId": "2fe6ed64-55b3-4595-c483-8bd031c82fd5"
   },
   "outputs": [
    {
     "name": "stdout",
     "output_type": "stream",
     "text": [
      "'-----------------------------'\n"
     ]
    },
    {
     "data": {
      "application/vnd.jupyter.widget-view+json": {
       "model_id": "a3a3d1b4d3a147baaa7f1e80feb715fd",
       "version_major": 2,
       "version_minor": 0
      },
      "text/plain": [
       "Batches:   0%|          | 0/1 [00:00<?, ?it/s]"
      ]
     },
     "metadata": {},
     "output_type": "display_data"
    },
    {
     "name": "stdout",
     "output_type": "stream",
     "text": [
      "\"Question = [('user', 'What is the AltGDMin algorithm?')]\"\n",
      "'---'\n",
      "{ 'messages': [ 'The AltGDMin algorithm is a modification of the AltMin '\n",
      "                'algorithm designed to be faster and more '\n",
      "                'communication-efficient for certain problems. It replaces the '\n",
      "                'slower of the two minimization steps in AltMin with a single '\n",
      "                'gradient descent (GD) step, making it particularly useful for '\n",
      "                'problems where the cost function is differentiable with '\n",
      "                'respect to one set of variables. This approach is beneficial '\n",
      "                'for partly decoupled problems, such as robust matrix '\n",
      "                'completion and robust low-rank matrix completion (LRCS).']}\n",
      "'\\n---\\n'\n",
      "'-----------------------------'\n",
      "'-----------------------------'\n"
     ]
    },
    {
     "data": {
      "application/vnd.jupyter.widget-view+json": {
       "model_id": "eee8fefb74dc490a8e4cd01ab38c7d97",
       "version_major": 2,
       "version_minor": 0
      },
      "text/plain": [
       "Batches:   0%|          | 0/1 [00:00<?, ?it/s]"
      ]
     },
     "metadata": {},
     "output_type": "display_data"
    },
    {
     "name": "stdout",
     "output_type": "stream",
     "text": [
      "(\"Question = [('user', 'How is AltGDMin different from alternating \"\n",
      " \"minimization?')]\")\n",
      "'---'\n",
      "{ 'messages': [ 'AltGDMin differs from alternating minimization (AltMin) in '\n",
      "                'that it is designed for optimization problems that are '\n",
      "                '\"partly decoupled,\" allowing for faster solutions by solving '\n",
      "                'smaller-dimensional minimization problems over disjoint '\n",
      "                'subsets. AltGDMin often provides a communication-efficiency '\n",
      "                'advantage in distributed or federated settings, even when '\n",
      "                'both problems are decoupled. It is particularly beneficial '\n",
      "                'when one of the minimizations is decoupled and fast, while '\n",
      "                'the other is not.']}\n",
      "'\\n---\\n'\n",
      "'-----------------------------'\n",
      "'-----------------------------'\n"
     ]
    },
    {
     "data": {
      "application/vnd.jupyter.widget-view+json": {
       "model_id": "a18667d515b04c129797ab8f1958b8c3",
       "version_major": 2,
       "version_minor": 0
      },
      "text/plain": [
       "Batches:   0%|          | 0/1 [00:00<?, ?it/s]"
      ]
     },
     "metadata": {},
     "output_type": "display_data"
    },
    {
     "name": "stdout",
     "output_type": "stream",
     "text": [
      "\"Question = [('user', 'How is AltGDMin different from convex optimization?')]\"\n",
      "'---'\n",
      "{ 'messages': [ 'AltGDMin differs from convex optimization primarily in terms '\n",
      "                'of speed and efficiency. It is faster and more '\n",
      "                'communication-efficient than both AltMin and convex '\n",
      "                'relaxation methods, which are known to be slower due to their '\n",
      "                'higher iteration and computational costs. AltGDMin is '\n",
      "                'particularly advantageous for problems where one of the '\n",
      "                'minimizations is decoupled and can be solved quickly, making '\n",
      "                'it more suitable for distributed or federated settings.']}\n",
      "'\\n---\\n'\n",
      "'-----------------------------'\n",
      "'-----------------------------'\n"
     ]
    },
    {
     "data": {
      "application/vnd.jupyter.widget-view+json": {
       "model_id": "f11bfc88ce1144b28335eaba8e6a9c81",
       "version_major": 2,
       "version_minor": 0
      },
      "text/plain": [
       "Batches:   0%|          | 0/1 [00:00<?, ?it/s]"
      ]
     },
     "metadata": {},
     "output_type": "display_data"
    },
    {
     "name": "stdout",
     "output_type": "stream",
     "text": [
      "(\"Question = [('user', 'What is the minimization problem of the AltGDMin \"\n",
      " \"algorithm for LRMC?')]\")\n",
      "'---'\n",
      "{ 'messages': [ 'The minimization problem of the AltGDMin algorithm for LRMC '\n",
      "                'involves updating \\\\( B \\\\) by minimizing the function \\\\( '\n",
      "                'f(U, B) \\\\), specifically obtaining \\\\( B_t := \\\\arg \\\\min '\n",
      "                'f(U_{t-1}, B) \\\\). The goal is to minimize the expected '\n",
      "                'gradient \\\\( E[\\\\nabla_U f(U, B)] = (X - X^*)B^\\\\top \\\\), '\n",
      "                'where \\\\( X := UB \\\\).']}\n",
      "'\\n---\\n'\n",
      "'-----------------------------'\n",
      "'-----------------------------'\n",
      "'Question = [(\\'user\\', \"What is Newton\\'s method?\")]'\n",
      "'---'\n",
      "\"I don't know. Context not relevant. \"\n",
      "'\\n---\\n'\n",
      "'-----------------------------'\n"
     ]
    }
   ],
   "source": [
    "import pprint\n",
    "questions = [\n",
    "    \"What is the AltGDMin algorithm?\",\n",
    "    \"How is AltGDMin different from alternating minimization?\",\n",
    "    \"How is AltGDMin different from convex optimization?\",\n",
    "    \"What is the minimization problem of the AltGDMin algorithm for LRMC?\",\n",
    "    \"What is Newton's method?\"]\n",
    "for i in range(len(questions)):\n",
    "  pprint.pprint(\"-----------------------------\")\n",
    "  inputs = {\"messages\": [(\"user\", questions[i])]}\n",
    "  found = False\n",
    "  for output in graph.stream(inputs):\n",
    "    for key, value in output.items():\n",
    "      if key == \"generate\":\n",
    "        found = True\n",
    "        pprint.pprint(\"Question = {ques}\".format(ques = inputs[\"messages\"]))\n",
    "        pprint.pprint(\"---\")\n",
    "        pprint.pprint(value, indent=2, width=80, depth=None)\n",
    "        pprint.pprint(\"\\n---\\n\")\n",
    "\n",
    "  if found == False:\n",
    "    pprint.pprint(\"Question = {ques}\".format(ques = inputs[\"messages\"]))\n",
    "    pprint.pprint(\"---\")\n",
    "    pprint.pprint(\"I don't know. Context not relevant. \", indent=2, width=80, depth=None)\n",
    "    pprint.pprint(\"\\n---\\n\")\n",
    "  pprint.pprint(\"-----------------------------\")"
   ]
  },
  {
   "cell_type": "markdown",
   "metadata": {
    "id": "HwIvZ5Gbb0zG"
   },
   "source": [
    "# Examples of Tool 2 Usage - RAG Strawberry"
   ]
  },
  {
   "cell_type": "code",
   "execution_count": null,
   "metadata": {
    "colab": {
     "base_uri": "https://localhost:8080/",
     "height": 943,
     "referenced_widgets": [
      "a42152a088904f5da06df9be616fc38c",
      "54757e4371334dc79d5474a0d91a48a4",
      "064a8965191742cdbe59f7f88faa8475",
      "ad4aefd5bd964d73834b1caf789e290c",
      "81e2c10d3a0447418718dfd2b10ec67f",
      "c225c1359bb84e0cb6fe57a88aacb647",
      "382da60decc1433b8c5eaa561a17a97f",
      "ca1028856c3b4a9295668d4ffc25dd20",
      "a91e309a6bf64a7faf6bbc4e3ad368a3",
      "31f26a8bcc664f84a0d92e3fc8955b41",
      "e3e16c75ebb2413a8c04e4fc32f91e31",
      "90ae0bb2d83b4622ba5a24c467795834",
      "35d72fb1f0ab4202a66a019d533e0221",
      "b77d76160635499fbe197e6e7db4779f",
      "4b0616b5d1ca455bbc60d8dfac318e24",
      "bb4d0904bb8b45ac88f98a66061ae862",
      "fefa67999c744b8f8a06cf52439aab71",
      "6c4aec01466643fd946854e7c131ae40",
      "ea869a33e0904cdea4fcabd5010132ef",
      "868cd7a27e124612a1fcbac2e93153c8",
      "b04d6c22b1a54ef080105cd7e782746a",
      "9471b39e5eb142a3aeffe3e6c517429c",
      "442cf7d16b0f4d959956482afa573741",
      "a55f9ff112704d9d83f75dd5f25b5ff5",
      "6e756cb6e8714e2ba1dd79f692c60a47",
      "de3e6bdcb7d74531b6106cbf1bb57f7e",
      "bd7abaa9d50d416d915949283b775793",
      "6a518c2cc1104815b182da93b10cd663",
      "b531b72bd90045bfbbfac5a8b643232b",
      "a82f6754bf144f68aa6886e9a3b4d8f8",
      "d18c903e65784198a5843add6f408810",
      "01e92bfcfa084bd59c2a9d1cfd6e66d3",
      "fa33c3bacc9d4fe5a67702cb2edb3add",
      "39ff4aaa0f9847e5a6746dc3c993f3fa",
      "8a3d758559a94434ab42c5c34f2a82b0",
      "5ed4f786320948a08891cfb03c9378a4",
      "7a9439a059ae4525beadf0d07fe8c7ec",
      "b8865ddf60484bce939f9253cfcac155",
      "41de85b882c8406abc36ded54cfba9af",
      "3b2dd96096bf4b578de3561caade0382",
      "5e75ac73c70344f2a98956391c4410e1",
      "3dd6c30f31c34a9ba90ea52c6d7cba9b",
      "80ae93ab3033401081340723679c29b1",
      "fc6608a7726b40f296a0caad505981a8"
     ]
    },
    "id": "aWqonamINZnV",
    "outputId": "cb5b3940-eb89-4a42-e8c1-99346f2cd6cf"
   },
   "outputs": [
    {
     "name": "stdout",
     "output_type": "stream",
     "text": [
      "'-----------------------------'\n"
     ]
    },
    {
     "data": {
      "application/vnd.jupyter.widget-view+json": {
       "model_id": "a42152a088904f5da06df9be616fc38c",
       "version_major": 2,
       "version_minor": 0
      },
      "text/plain": [
       "Batches:   0%|          | 0/1 [00:00<?, ?it/s]"
      ]
     },
     "metadata": {},
     "output_type": "display_data"
    },
    {
     "name": "stdout",
     "output_type": "stream",
     "text": [
      "\"Question = [('user', 'What is the strawberry Algorithm?')]\"\n",
      "'---'\n",
      "{ 'messages': [ 'The Strawberry Algorithm is a method for fast and accurate '\n",
      "                'genome-guided transcript reconstruction and quantification '\n",
      "                'from RNA-seq data. It improves computational efficiency by '\n",
      "                'grouping reads based on exon bins and uses a flow network '\n",
      "                'algorithm to parsimoniously build up transcripts. Unlike '\n",
      "                'other methods, Strawberry focuses on transcript assembly '\n",
      "                'rather than quantification.']}\n",
      "'\\n---\\n'\n",
      "'-----------------------------'\n",
      "'-----------------------------'\n"
     ]
    },
    {
     "data": {
      "application/vnd.jupyter.widget-view+json": {
       "model_id": "90ae0bb2d83b4622ba5a24c467795834",
       "version_major": 2,
       "version_minor": 0
      },
      "text/plain": [
       "Batches:   0%|          | 0/1 [00:00<?, ?it/s]"
      ]
     },
     "metadata": {},
     "output_type": "display_data"
    },
    {
     "name": "stdout",
     "output_type": "stream",
     "text": [
      "(\"Question = [('user', 'What are the evlaulation metrics for strawberry \"\n",
      " \"algorithm?')]\")\n",
      "'---'\n",
      "{ 'messages': [ 'The evaluation metrics for the Strawberry algorithm include '\n",
      "                'sensitivity and specificity, as well as the accuracy of '\n",
      "                'transcript assembly and quantification. Strawberry is noted '\n",
      "                'for producing more accurate transcripts compared to other '\n",
      "                'methods like StringTie and Cufflinks, and it achieves over '\n",
      "                '92% correlation with the ground truth in simulated RNA-seq '\n",
      "                'data.']}\n",
      "'\\n---\\n'\n",
      "'-----------------------------'\n",
      "'-----------------------------'\n"
     ]
    },
    {
     "data": {
      "application/vnd.jupyter.widget-view+json": {
       "model_id": "442cf7d16b0f4d959956482afa573741",
       "version_major": 2,
       "version_minor": 0
      },
      "text/plain": [
       "Batches:   0%|          | 0/1 [00:00<?, ?it/s]"
      ]
     },
     "metadata": {},
     "output_type": "display_data"
    },
    {
     "name": "stdout",
     "output_type": "stream",
     "text": [
      "(\"Question = [('user', 'What algorithms is the strawberry algorithm compared \"\n",
      " \"to?')]\")\n",
      "'---'\n",
      "{ 'messages': [ 'The strawberry algorithm is compared to Cufflinks and '\n",
      "                'StringTie.']}\n",
      "'\\n---\\n'\n",
      "'-----------------------------'\n",
      "'-----------------------------'\n"
     ]
    },
    {
     "data": {
      "application/vnd.jupyter.widget-view+json": {
       "model_id": "39ff4aaa0f9847e5a6746dc3c993f3fa",
       "version_major": 2,
       "version_minor": 0
      },
      "text/plain": [
       "Batches:   0%|          | 0/1 [00:00<?, ?it/s]"
      ]
     },
     "metadata": {},
     "output_type": "display_data"
    },
    {
     "name": "stdout",
     "output_type": "stream",
     "text": [
      "(\"Question = [('user', 'What do the authors of strawberry use expecetation \"\n",
      " \"maximization (EM) for?')]\")\n",
      "'---'\n",
      "\"I don't know. Context not relevant. \"\n",
      "'\\n---\\n'\n",
      "'-----------------------------'\n",
      "'-----------------------------'\n",
      "'Question = [(\\'user\\', \"What is Newton\\'s method?\")]'\n",
      "'---'\n",
      "\"I don't know. Context not relevant. \"\n",
      "'\\n---\\n'\n",
      "'-----------------------------'\n"
     ]
    }
   ],
   "source": [
    "import pprint\n",
    "questions = [\n",
    "    \"What is the strawberry Algorithm?\",\n",
    "    \"What are the evlaulation metrics for strawberry algorithm?\",\n",
    "    \"What algorithms is the strawberry algorithm compared to?\",\n",
    "    \"What do the authors of strawberry use expecetation maximization (EM) for?\",\n",
    "    \"What is Newton's method?\"]\n",
    "for i in range(len(questions)):\n",
    "  pprint.pprint(\"-----------------------------\")\n",
    "  inputs = {\"messages\": [(\"user\", questions[i])]}\n",
    "  found = False\n",
    "  for output in graph.stream(inputs):\n",
    "    for key, value in output.items():\n",
    "      if key == \"generate\":\n",
    "        found = True\n",
    "        pprint.pprint(\"Question = {ques}\".format(ques = inputs[\"messages\"]))\n",
    "        pprint.pprint(\"---\")\n",
    "        pprint.pprint(value, indent=2, width=80, depth=None)\n",
    "        pprint.pprint(\"\\n---\\n\")\n",
    "\n",
    "  if found == False:\n",
    "    pprint.pprint(\"Question = {ques}\".format(ques = inputs[\"messages\"]))\n",
    "    pprint.pprint(\"---\")\n",
    "    pprint.pprint(\"I don't know. Context not relevant. \", indent=2, width=80, depth=None)\n",
    "    pprint.pprint(\"\\n---\\n\")\n",
    "  pprint.pprint(\"-----------------------------\")"
   ]
  },
  {
   "cell_type": "markdown",
   "metadata": {
    "id": "3x3g7bieb9O_"
   },
   "source": [
    "# Example of Tool 3 Usage - Linear Assignment Problem Solver"
   ]
  },
  {
   "cell_type": "code",
   "execution_count": null,
   "metadata": {
    "colab": {
     "base_uri": "https://localhost:8080/"
    },
    "id": "PNz5g58hcDQ4",
    "outputId": "1e8e581c-36b1-4008-a8a1-f2a4b493ad41"
   },
   "outputs": [
    {
     "name": "stdout",
     "output_type": "stream",
     "text": [
      "'---'\n",
      "\"{'messages': [array([0, 1, 2]), array([1, 0, 2])]}\"\n",
      "'\\n---\\n'\n"
     ]
    }
   ],
   "source": [
    "inputPrompt = \"\"\" A manager needs to assign 3 workers to 3 jobs.\\\n",
    "Each worker can do any job, but the cost of assigning each worker to each job is different.\n",
    "#### **Cost Matrix (in dollars):**\n",
    "|          | Job 1 | Job 2 | Job 3 |\n",
    "| -------- | ----- | ----- | ----- |\n",
    "| Worker 1 | 9     | 2     | 7     |\n",
    "| Worker 2 | 6     | 4     | 3     |\n",
    "| Worker 3 | 5     | 8     | 1     |\n",
    "---\n",
    "### **Objective:**\n",
    "Assign each worker to one unique job so that the **total cost is minimized**.\"\"\"\n",
    "\n",
    "inputs = {\"messages\": [(\"user\", inputPrompt)]}\n",
    "for output in graph.stream(inputs):\n",
    "  for key, value in output.items():\n",
    "      if key == \"LAP\":\n",
    "        found = True\n",
    "        pprint.pprint(\"---\")\n",
    "        a = value['messages']\n",
    "        pprint.pprint(value['messages'].content, indent=2, width=80, depth=None)\n",
    "        pprint.pprint(\"\\n---\\n\")"
   ]
  },
  {
   "cell_type": "code",
   "execution_count": null,
   "metadata": {
    "colab": {
     "base_uri": "https://localhost:8080/"
    },
    "id": "qx27c3DmuJW0",
    "outputId": "2f266dfa-2be3-4a6c-90db-a20470a2e550"
   },
   "outputs": [
    {
     "name": "stdout",
     "output_type": "stream",
     "text": [
      "'---'\n",
      "[ AIMessage(content='', additional_kwargs={'tool_calls': [{'index': 0, 'id': 'call_Tns5ftxtMGBXaSsIkY59plES', 'function': {'arguments': '{\"M\":[[9,2,7,8],[6,4,3,7],[5,1000,1,8],[7,6,9,4]]}', 'name': 'squareMatrix'}, 'type': 'function'}]}, response_metadata={'finish_reason': 'tool_calls', 'model_name': 'gpt-4o-2024-08-06', 'system_fingerprint': 'fp_07871e2ad8', 'service_tier': 'default'}, id='run--57086791-739a-4593-9911-19bdb14eba09-0', tool_calls=[{'name': 'squareMatrix', 'args': {'M': [[9, 2, 7, 8], [6, 4, 3, 7], [5, 1000, 1, 8], [7, 6, 9, 4]]}, 'id': 'call_Tns5ftxtMGBXaSsIkY59plES', 'type': 'tool_call'}])]\n",
      "'\\n---\\n'\n",
      "'---'\n",
      "[ ToolMessage(content=\"{'messages': [array([0, 1, 2, 3]), array([1, 0, 2, 3])]}\", name='squareMatrix', id='29f4ef1f-c727-4730-9515-36fb6d491913', tool_call_id='call_Tns5ftxtMGBXaSsIkY59plES')]\n",
      "'\\n---\\n'\n",
      "'---'\n",
      "ToolMessage(content=\"{'messages': [array([0, 1, 2, 3]), array([1, 0, 2, 3])]}\", name='squareMatrix', id='29f4ef1f-c727-4730-9515-36fb6d491913', tool_call_id='call_Tns5ftxtMGBXaSsIkY59plES')\n",
      "'\\n---\\n'\n"
     ]
    }
   ],
   "source": [
    "inputPrompt = \"\"\"A logistics firm is planning to deploy four delivery drones (D1, D2, D3, D4) to deliver urgent packages to four distinct city zones (Z1, Z2, Z3, Z4). However, each drone has a varying level of battery efficiency and signal stability, making them more or less suited to particular zones.\n",
    "\n",
    "Each zone has unique geographical characteristics (like signal interference, wind patterns, and airspace restrictions), and assigning a drone to a suboptimal zone can result in delayed delivery and higher battery consumption. The estimated cost (in minutes of delay) of assigning each drone to each zone, after factoring in terrain, air traffic, and drone characteristics, is given in the table below:\n",
    "\n",
    "Z1\tZ2\tZ3\tZ4\n",
    "D1\t9\t2\t7\t8\n",
    "D2\t6\t4\t3\t7\n",
    "D3\t5\t8\t1\t8\n",
    "D4\t7\t6\t9\t4\n",
    "\n",
    "The company’s objective is to minimize the total delivery delay by assigning each drone to exactly one zone and each zone to exactly one drone.\n",
    "\n",
    "However, note the following complicating conditions:\n",
    "\n",
    "Due to a recent update in drone firmware, Drone D3 should not be assigned to Zone Z2.\n",
    "\n",
    "Drone D2 must be assigned to either Zone Z2 or Z3 because of its signal calibration.\n",
    "\n",
    "Assignments must be exclusive — no two drones can be assigned to the same zone.\"\"\"\n",
    "\n",
    "inputs = {\"messages\": [(\"user\", inputPrompt)]}\n",
    "for output in graph.stream(inputs):\n",
    "  for key, value in output.items():\n",
    "      #if key == \"LAP\":\n",
    "      found = True\n",
    "      pprint.pprint(\"---\")\n",
    "      pprint.pprint(value['messages'], indent=2, width=80, depth=None)\n",
    "      pprint.pprint(\"\\n---\\n\")"
   ]
  }
 ],
 "metadata": {
  "language_info": {
   "name": "python"
  }
 },
 "nbformat": 4,
 "nbformat_minor": 0
}
